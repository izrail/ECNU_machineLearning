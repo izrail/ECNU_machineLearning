{
 "cells": [
  {
   "cell_type": "code",
   "execution_count": 1,
   "metadata": {},
   "outputs": [
    {
     "name": "stdout",
     "output_type": "stream",
     "text": [
      "dim=3\n",
      "[0.5197378343237578, -2.050029849077282, 0.3346353341751458]\n",
      "-1.3807591807269906\n",
      "[-5.114236976517503, -3.3075288177647097, 1.4204047704945149]\n",
      "-0.46671927677568004\n",
      "[0.9461845608368638, 2.066293375569731, -3.022609852651359]\n",
      "-3.978926329732987\n",
      "[1.2544773881839335, -0.4946092414017276, 3.2692803449497196]\n",
      "6.043951448497712\n",
      "[-1.3611342663581683, 3.041609873866709, -2.692011438002129]\n",
      "-2.3424130021375493\n",
      "[0.9635512176509948, 1.8318873784816665, 0.6108361090452163]\n",
      "3.053559596572099\n",
      "[1.7765697882204616, 2.200800631912637, -1.4000087199795312]\n",
      "-0.5992168080464255\n"
     ]
    },
    {
     "ename": "KeyboardInterrupt",
     "evalue": "",
     "output_type": "error",
     "traceback": [
      "\u001b[1;31m---------------------------------------------------------------------------\u001b[0m",
      "\u001b[1;31mKeyboardInterrupt\u001b[0m                         Traceback (most recent call last)",
      "\u001b[1;32m<ipython-input-1-8b0bc87c48bf>\u001b[0m in \u001b[0;36m<module>\u001b[1;34m()\u001b[0m\n\u001b[0;32m     20\u001b[0m     \u001b[0mx\u001b[0m \u001b[1;33m=\u001b[0m \u001b[1;33m[\u001b[0m\u001b[0mrandom\u001b[0m\u001b[1;33m.\u001b[0m\u001b[0muniform\u001b[0m\u001b[1;33m(\u001b[0m\u001b[1;33m-\u001b[0m\u001b[1;36m2.048\u001b[0m\u001b[1;33m,\u001b[0m\u001b[1;36m2.048\u001b[0m\u001b[1;33m)\u001b[0m \u001b[1;32mfor\u001b[0m \u001b[0mi\u001b[0m \u001b[1;32min\u001b[0m \u001b[0mrange\u001b[0m\u001b[1;33m(\u001b[0m\u001b[0mdim\u001b[0m\u001b[1;33m)\u001b[0m\u001b[1;33m]\u001b[0m\u001b[1;33m\u001b[0m\u001b[0m\n\u001b[0;32m     21\u001b[0m     \u001b[0my2\u001b[0m \u001b[1;33m=\u001b[0m \u001b[0mrosenBrock\u001b[0m\u001b[1;33m(\u001b[0m\u001b[0mx\u001b[0m\u001b[1;33m)\u001b[0m\u001b[1;33m\u001b[0m\u001b[0m\n\u001b[1;32m---> 22\u001b[1;33m     \u001b[0mtime\u001b[0m\u001b[1;33m.\u001b[0m\u001b[0msleep\u001b[0m\u001b[1;33m(\u001b[0m\u001b[1;36m10\u001b[0m\u001b[1;33m)\u001b[0m\u001b[1;33m\u001b[0m\u001b[0m\n\u001b[0m\u001b[0;32m     23\u001b[0m \u001b[1;33m\u001b[0m\u001b[0m\n",
      "\u001b[1;31mKeyboardInterrupt\u001b[0m: "
     ]
    }
   ],
   "source": [
    "import matplotlib.pyplot as plt\n",
    "import numpy as np\n",
    "import random\n",
    "import time\n",
    "import math\n",
    "def ellipsoid(x):\n",
    "    sum = 0\n",
    "    for i,num in enumerate(x):\n",
    "        temp = i*num\n",
    "        sum += temp\n",
    "    return sum\n",
    "def rosenBrock(x):\n",
    "    sum = 0\n",
    "    for i,num in enumerate(x):\n",
    "        temp = 100*(x[i+1]-num*num)*(x[i+1]-num*num) + (1-num)*(1-num)\n",
    "        sum += temp\n",
    "    return sum\n",
    "\n",
    "def ackley(x):\n",
    "    sum1 = 0\n",
    "    sum2 = 0\n",
    "    for i,num in enumerate(x):\n",
    "        tem1 = num*num\n",
    "        temp2 = math.cos(2*x*math.pi)\n",
    "\n",
    "        sum1 += temp1\n",
    "        sum2 += temp2\n",
    "    sum1 = sum1/len(x)\n",
    "    sum2 = sum2/len(x)\n",
    "    return math.exp(math.sqrt(sum1)*(-0.2))*(-20) - math.exp(sum2)\n",
    "def griewank(x):\n",
    "    sum1 = 0\n",
    "    sum2 = 1\n",
    "    for i,num in enumerate(x):\n",
    "        temp1 = num*num/4000\n",
    "        sum2 = sum2*math.cos(num/math.sqrt(i))\n",
    "        sum1 += temp1\n",
    "    return 1 + sum1 - sum2\n",
    "dim = int(input(\"dim=\"))\n",
    "while True:\n",
    "    x = [random.uniform(-5.12,5.12) for i in range(dim)]\n",
    "    print(x)\n",
    "    y1 = ellipsoid(x)\n",
    "    print(y1)\n",
    "    x = [random.uniform(-2.048,2.048) for i in range(dim)]\n",
    "    y2 = rosenBrock(x)\n",
    "    time.sleep(10)\n",
    "    "
   ]
  },
  {
   "cell_type": "code",
   "execution_count": null,
   "metadata": {},
   "outputs": [],
   "source": []
  },
  {
   "cell_type": "code",
   "execution_count": null,
   "metadata": {},
   "outputs": [],
   "source": []
  },
  {
   "cell_type": "code",
   "execution_count": null,
   "metadata": {},
   "outputs": [],
   "source": []
  },
  {
   "cell_type": "code",
   "execution_count": null,
   "metadata": {},
   "outputs": [],
   "source": []
  }
 ],
 "metadata": {
  "kernelspec": {
   "display_name": "Python 3",
   "language": "python",
   "name": "python3"
  },
  "language_info": {
   "codemirror_mode": {
    "name": "ipython",
    "version": 3
   },
   "file_extension": ".py",
   "mimetype": "text/x-python",
   "name": "python",
   "nbconvert_exporter": "python",
   "pygments_lexer": "ipython3",
   "version": "3.6.5"
  }
 },
 "nbformat": 4,
 "nbformat_minor": 2
}
